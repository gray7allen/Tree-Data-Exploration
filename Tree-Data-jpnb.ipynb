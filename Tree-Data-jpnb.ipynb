{
 "cells": [
  {
   "cell_type": "code",
   "execution_count": 1,
   "id": "b19e8e88",
   "metadata": {},
   "outputs": [],
   "source": [
    "import pandas as pd\n",
    "data = pd.read_csv('Street_Tree_List.csv')"
   ]
  },
  {
   "cell_type": "code",
   "execution_count": 73,
   "id": "fe264071",
   "metadata": {},
   "outputs": [],
   "source": [
    "rawdata = pd.read_csv('Street_Tree_List.csv')"
   ]
  },
  {
   "cell_type": "code",
   "execution_count": 43,
   "id": "a9f58eda",
   "metadata": {},
   "outputs": [
    {
     "data": {
      "text/plain": [
       "TreeID                            0\n",
       "qLegalStatus                     57\n",
       "qSpecies                          0\n",
       "qAddress                       1491\n",
       "SiteOrder                      1804\n",
       "qSiteInfo                         0\n",
       "PlantType                         0\n",
       "qCaretaker                        0\n",
       "qCareAssistant               171739\n",
       "PlantDate                    125682\n",
       "DBH                           43488\n",
       "PlotSize                      50346\n",
       "PermitNotes                  143126\n",
       "XCoord                         2940\n",
       "YCoord                         2940\n",
       "Latitude                       2940\n",
       "Longitude                      2940\n",
       "Location                       2940\n",
       "Fire Prevention Districts      3191\n",
       "Police Districts               3138\n",
       "Supervisor Districts           3077\n",
       "Zip Codes                      3083\n",
       "Neighborhoods (old)            3081\n",
       "dtype: int64"
      ]
     },
     "execution_count": 43,
     "metadata": {},
     "output_type": "execute_result"
    }
   ],
   "source": [
    "data.isnull().sum()"
   ]
  },
  {
   "cell_type": "code",
   "execution_count": 44,
   "id": "3b3187e3",
   "metadata": {},
   "outputs": [
    {
     "name": "stdout",
     "output_type": "stream",
     "text": [
      "<class 'pandas.core.frame.DataFrame'>\n",
      "RangeIndex: 196425 entries, 0 to 196424\n",
      "Data columns (total 23 columns):\n",
      " #   Column                     Non-Null Count   Dtype  \n",
      "---  ------                     --------------   -----  \n",
      " 0   TreeID                     196425 non-null  int64  \n",
      " 1   qLegalStatus               196368 non-null  object \n",
      " 2   qSpecies                   196425 non-null  object \n",
      " 3   qAddress                   194934 non-null  object \n",
      " 4   SiteOrder                  194621 non-null  float64\n",
      " 5   qSiteInfo                  196425 non-null  object \n",
      " 6   PlantType                  196425 non-null  object \n",
      " 7   qCaretaker                 196425 non-null  object \n",
      " 8   qCareAssistant             24686 non-null   object \n",
      " 9   PlantDate                  70743 non-null   object \n",
      " 10  DBH                        152937 non-null  float64\n",
      " 11  PlotSize                   146079 non-null  object \n",
      " 12  PermitNotes                53299 non-null   object \n",
      " 13  XCoord                     193485 non-null  float64\n",
      " 14  YCoord                     193485 non-null  float64\n",
      " 15  Latitude                   193485 non-null  float64\n",
      " 16  Longitude                  193485 non-null  float64\n",
      " 17  Location                   193485 non-null  object \n",
      " 18  Fire Prevention Districts  193234 non-null  float64\n",
      " 19  Police Districts           193287 non-null  float64\n",
      " 20  Supervisor Districts       193348 non-null  float64\n",
      " 21  Zip Codes                  193342 non-null  float64\n",
      " 22  Neighborhoods (old)        193344 non-null  float64\n",
      "dtypes: float64(11), int64(1), object(11)\n",
      "memory usage: 34.5+ MB\n"
     ]
    }
   ],
   "source": [
    "data.info()"
   ]
  },
  {
   "cell_type": "code",
   "execution_count": 45,
   "id": "544dabca",
   "metadata": {},
   "outputs": [],
   "source": [
    "data.drop(columns=['qCareAssistant','PlantDate','DBH','PlotSize','PermitNotes'],inplace=True)"
   ]
  },
  {
   "cell_type": "code",
   "execution_count": 56,
   "id": "da0c4e0a",
   "metadata": {},
   "outputs": [
    {
     "data": {
      "text/html": [
       "<div>\n",
       "<style scoped>\n",
       "    .dataframe tbody tr th:only-of-type {\n",
       "        vertical-align: middle;\n",
       "    }\n",
       "\n",
       "    .dataframe tbody tr th {\n",
       "        vertical-align: top;\n",
       "    }\n",
       "\n",
       "    .dataframe thead th {\n",
       "        text-align: right;\n",
       "    }\n",
       "</style>\n",
       "<table border=\"1\" class=\"dataframe\">\n",
       "  <thead>\n",
       "    <tr style=\"text-align: right;\">\n",
       "      <th></th>\n",
       "      <th>TreeID</th>\n",
       "      <th>qLegalStatus</th>\n",
       "      <th>qSpecies</th>\n",
       "      <th>qAddress</th>\n",
       "      <th>SiteOrder</th>\n",
       "      <th>qSiteInfo</th>\n",
       "      <th>PlantType</th>\n",
       "      <th>qCaretaker</th>\n",
       "      <th>XCoord</th>\n",
       "      <th>YCoord</th>\n",
       "      <th>Latitude</th>\n",
       "      <th>Longitude</th>\n",
       "      <th>Location</th>\n",
       "      <th>Fire Prevention Districts</th>\n",
       "      <th>Police Districts</th>\n",
       "      <th>Supervisor Districts</th>\n",
       "      <th>Zip Codes</th>\n",
       "      <th>Neighborhoods (old)</th>\n",
       "    </tr>\n",
       "  </thead>\n",
       "  <tbody>\n",
       "    <tr>\n",
       "      <th>956</th>\n",
       "      <td>7508</td>\n",
       "      <td>DPW Maintained</td>\n",
       "      <td>Ulmus parvifolia :: Chinese Elm</td>\n",
       "      <td>2733 Folsom St</td>\n",
       "      <td>1.0</td>\n",
       "      <td>Sidewalk: Curb side : Cutout</td>\n",
       "      <td>Tree</td>\n",
       "      <td>Private</td>\n",
       "      <td>6.008333e+06</td>\n",
       "      <td>2.102504e+06</td>\n",
       "      <td>37.753547</td>\n",
       "      <td>-122.414089</td>\n",
       "      <td>(37.7535467030383, -122.414089204467)</td>\n",
       "      <td>2.0</td>\n",
       "      <td>4.0</td>\n",
       "      <td>7.0</td>\n",
       "      <td>28859.0</td>\n",
       "      <td>19.0</td>\n",
       "    </tr>\n",
       "    <tr>\n",
       "      <th>1041</th>\n",
       "      <td>126345</td>\n",
       "      <td>DPW Maintained</td>\n",
       "      <td>Corymbia ficifolia :: Red Flowering Gum</td>\n",
       "      <td>504 Clay St</td>\n",
       "      <td>6.0</td>\n",
       "      <td>Sidewalk: Curb side : Cutout</td>\n",
       "      <td>Tree</td>\n",
       "      <td>Private</td>\n",
       "      <td>6.011901e+06</td>\n",
       "      <td>2.117456e+06</td>\n",
       "      <td>37.794801</td>\n",
       "      <td>-122.402799</td>\n",
       "      <td>(37.7948010955445, -122.402798926636)</td>\n",
       "      <td>3.0</td>\n",
       "      <td>1.0</td>\n",
       "      <td>10.0</td>\n",
       "      <td>28860.0</td>\n",
       "      <td>4.0</td>\n",
       "    </tr>\n",
       "    <tr>\n",
       "      <th>1176</th>\n",
       "      <td>183553</td>\n",
       "      <td>DPW Maintained</td>\n",
       "      <td>Metrosideros excelsa :: New Zealand Xmas Tree</td>\n",
       "      <td>1202 Vicente St</td>\n",
       "      <td>1.0</td>\n",
       "      <td>Sidewalk: Curb side : Cutout</td>\n",
       "      <td>Tree</td>\n",
       "      <td>Private</td>\n",
       "      <td>5.989151e+06</td>\n",
       "      <td>2.097677e+06</td>\n",
       "      <td>37.739197</td>\n",
       "      <td>-122.480070</td>\n",
       "      <td>(37.7391970264356, -122.480069779917)</td>\n",
       "      <td>1.0</td>\n",
       "      <td>8.0</td>\n",
       "      <td>3.0</td>\n",
       "      <td>29491.0</td>\n",
       "      <td>35.0</td>\n",
       "    </tr>\n",
       "    <tr>\n",
       "      <th>1713</th>\n",
       "      <td>255643</td>\n",
       "      <td>DPW Maintained</td>\n",
       "      <td>Magnolia grandiflora :: Southern Magnolia</td>\n",
       "      <td>1122 Folsom St</td>\n",
       "      <td>3.0</td>\n",
       "      <td>Sidewalk: Curb side : Cutout</td>\n",
       "      <td>Tree</td>\n",
       "      <td>Private</td>\n",
       "      <td>6.010086e+06</td>\n",
       "      <td>2.110745e+06</td>\n",
       "      <td>37.776273</td>\n",
       "      <td>-122.408608</td>\n",
       "      <td>(37.7762730405804, -122.408608151117)</td>\n",
       "      <td>8.0</td>\n",
       "      <td>2.0</td>\n",
       "      <td>9.0</td>\n",
       "      <td>28853.0</td>\n",
       "      <td>34.0</td>\n",
       "    </tr>\n",
       "    <tr>\n",
       "      <th>2329</th>\n",
       "      <td>18916</td>\n",
       "      <td>DPW Maintained</td>\n",
       "      <td>Olea europaea :: Olive Tree</td>\n",
       "      <td>2621 Sacramento St</td>\n",
       "      <td>1.0</td>\n",
       "      <td>Sidewalk: Curb side : Cutout</td>\n",
       "      <td>Tree</td>\n",
       "      <td>DPW</td>\n",
       "      <td>6.002236e+06</td>\n",
       "      <td>2.115725e+06</td>\n",
       "      <td>37.789503</td>\n",
       "      <td>-122.436119</td>\n",
       "      <td>(37.7895026155894, -122.4361187581)</td>\n",
       "      <td>13.0</td>\n",
       "      <td>6.0</td>\n",
       "      <td>1.0</td>\n",
       "      <td>29490.0</td>\n",
       "      <td>27.0</td>\n",
       "    </tr>\n",
       "  </tbody>\n",
       "</table>\n",
       "</div>"
      ],
      "text/plain": [
       "      TreeID    qLegalStatus                                       qSpecies  \\\n",
       "956     7508  DPW Maintained                Ulmus parvifolia :: Chinese Elm   \n",
       "1041  126345  DPW Maintained        Corymbia ficifolia :: Red Flowering Gum   \n",
       "1176  183553  DPW Maintained  Metrosideros excelsa :: New Zealand Xmas Tree   \n",
       "1713  255643  DPW Maintained      Magnolia grandiflora :: Southern Magnolia   \n",
       "2329   18916  DPW Maintained                    Olea europaea :: Olive Tree   \n",
       "\n",
       "                qAddress  SiteOrder                     qSiteInfo PlantType  \\\n",
       "956       2733 Folsom St        1.0  Sidewalk: Curb side : Cutout      Tree   \n",
       "1041         504 Clay St        6.0  Sidewalk: Curb side : Cutout      Tree   \n",
       "1176     1202 Vicente St        1.0  Sidewalk: Curb side : Cutout      Tree   \n",
       "1713      1122 Folsom St        3.0  Sidewalk: Curb side : Cutout      Tree   \n",
       "2329  2621 Sacramento St        1.0  Sidewalk: Curb side : Cutout      Tree   \n",
       "\n",
       "     qCaretaker        XCoord        YCoord   Latitude   Longitude  \\\n",
       "956     Private  6.008333e+06  2.102504e+06  37.753547 -122.414089   \n",
       "1041    Private  6.011901e+06  2.117456e+06  37.794801 -122.402799   \n",
       "1176    Private  5.989151e+06  2.097677e+06  37.739197 -122.480070   \n",
       "1713    Private  6.010086e+06  2.110745e+06  37.776273 -122.408608   \n",
       "2329        DPW  6.002236e+06  2.115725e+06  37.789503 -122.436119   \n",
       "\n",
       "                                   Location  Fire Prevention Districts  \\\n",
       "956   (37.7535467030383, -122.414089204467)                        2.0   \n",
       "1041  (37.7948010955445, -122.402798926636)                        3.0   \n",
       "1176  (37.7391970264356, -122.480069779917)                        1.0   \n",
       "1713  (37.7762730405804, -122.408608151117)                        8.0   \n",
       "2329    (37.7895026155894, -122.4361187581)                       13.0   \n",
       "\n",
       "      Police Districts  Supervisor Districts  Zip Codes  Neighborhoods (old)  \n",
       "956                4.0                   7.0    28859.0                 19.0  \n",
       "1041               1.0                  10.0    28860.0                  4.0  \n",
       "1176               8.0                   3.0    29491.0                 35.0  \n",
       "1713               2.0                   9.0    28853.0                 34.0  \n",
       "2329               6.0                   1.0    29490.0                 27.0  "
      ]
     },
     "execution_count": 56,
     "metadata": {},
     "output_type": "execute_result"
    }
   ],
   "source": [
    "data.head()"
   ]
  },
  {
   "cell_type": "code",
   "execution_count": 47,
   "id": "2413cd84",
   "metadata": {},
   "outputs": [
    {
     "data": {
      "text/plain": [
       "TreeID                          0\n",
       "qLegalStatus                   57\n",
       "qSpecies                        0\n",
       "qAddress                     1491\n",
       "SiteOrder                    1804\n",
       "qSiteInfo                       0\n",
       "PlantType                       0\n",
       "qCaretaker                      0\n",
       "XCoord                       2940\n",
       "YCoord                       2940\n",
       "Latitude                     2940\n",
       "Longitude                    2940\n",
       "Location                     2940\n",
       "Fire Prevention Districts    3191\n",
       "Police Districts             3138\n",
       "Supervisor Districts         3077\n",
       "Zip Codes                    3083\n",
       "Neighborhoods (old)          3081\n",
       "dtype: int64"
      ]
     },
     "execution_count": 47,
     "metadata": {},
     "output_type": "execute_result"
    }
   ],
   "source": [
    "data.isnull().sum()"
   ]
  },
  {
   "cell_type": "code",
   "execution_count": 48,
   "id": "ba21a8d3",
   "metadata": {},
   "outputs": [],
   "source": [
    "data.dropna(inplace=True)"
   ]
  },
  {
   "cell_type": "code",
   "execution_count": 49,
   "id": "73a934be",
   "metadata": {},
   "outputs": [
    {
     "data": {
      "text/plain": [
       "TreeID                       0\n",
       "qLegalStatus                 0\n",
       "qSpecies                     0\n",
       "qAddress                     0\n",
       "SiteOrder                    0\n",
       "qSiteInfo                    0\n",
       "PlantType                    0\n",
       "qCaretaker                   0\n",
       "XCoord                       0\n",
       "YCoord                       0\n",
       "Latitude                     0\n",
       "Longitude                    0\n",
       "Location                     0\n",
       "Fire Prevention Districts    0\n",
       "Police Districts             0\n",
       "Supervisor Districts         0\n",
       "Zip Codes                    0\n",
       "Neighborhoods (old)          0\n",
       "dtype: int64"
      ]
     },
     "execution_count": 49,
     "metadata": {},
     "output_type": "execute_result"
    }
   ],
   "source": [
    "data.isnull().sum()"
   ]
  },
  {
   "cell_type": "markdown",
   "id": "a007e39c",
   "metadata": {},
   "source": [
    "### Finding how many unique zipcodes are represented\n",
    "\n",
    "### First as a list then as a number"
   ]
  },
  {
   "cell_type": "code",
   "execution_count": 50,
   "id": "a4bd858b",
   "metadata": {},
   "outputs": [
    {
     "data": {
      "text/plain": [
       "array([28859., 28860., 29491., 28853., 29490.,    58.,   308., 28852.,\n",
       "          57.,    54., 28861., 28858., 28855.,    56.,    55., 28856.,\n",
       "       29492.,   310., 28862.,    63.,   309.,    59., 28857.,    64.,\n",
       "       28854.,    61., 28588.])"
      ]
     },
     "execution_count": 50,
     "metadata": {},
     "output_type": "execute_result"
    }
   ],
   "source": [
    "data['Zip Codes'].unique()"
   ]
  },
  {
   "cell_type": "code",
   "execution_count": 51,
   "id": "227743ee",
   "metadata": {},
   "outputs": [
    {
     "data": {
      "text/plain": [
       "27"
      ]
     },
     "execution_count": 51,
     "metadata": {},
     "output_type": "execute_result"
    }
   ],
   "source": [
    "data['Zip Codes'].nunique()"
   ]
  },
  {
   "cell_type": "markdown",
   "id": "4ac3aaa2",
   "metadata": {},
   "source": [
    "### Finding how many total trees there are via TreeID or PlantType"
   ]
  },
  {
   "cell_type": "code",
   "execution_count": 54,
   "id": "74d2d9dc",
   "metadata": {},
   "outputs": [
    {
     "data": {
      "text/plain": [
       "191276"
      ]
     },
     "execution_count": 54,
     "metadata": {},
     "output_type": "execute_result"
    }
   ],
   "source": [
    "data['TreeID'].count()"
   ]
  },
  {
   "cell_type": "code",
   "execution_count": 67,
   "id": "f7edfdfb",
   "metadata": {},
   "outputs": [
    {
     "data": {
      "text/plain": [
       "191276"
      ]
     },
     "execution_count": 67,
     "metadata": {},
     "output_type": "execute_result"
    }
   ],
   "source": [
    "data['PlantType'].count()"
   ]
  },
  {
   "cell_type": "markdown",
   "id": "807a8bb2",
   "metadata": {},
   "source": [
    "### Viewing the various formats for dimensions"
   ]
  },
  {
   "cell_type": "code",
   "execution_count": 78,
   "id": "8480000e",
   "metadata": {
    "scrolled": true
   },
   "outputs": [
    {
     "data": {
      "text/plain": [
       "array([nan, '3x3', '60', '120ST', '1OST', '60X', '10', '15ST', 'ST',\n",
       "       '100ST', '100x100', '60ST', '25ST', '3x4', '40ST', '30', '3X3',\n",
       "       '10x30', '10x10', '30ST', '10ST', '3X3ST', '40', '15', '50ST',\n",
       "       '20ST', '5X5', '20', '2', '6X6', '5x10', '8', '10M', '4x4', '4x11',\n",
       "       'Width 2ft', '45X', '5x5', '2ST', 'Width 0ft', '12x6', '2x2',\n",
       "       '27X', '12ST', '36', '6x5', '4x5', 'Width 3ft', '3x6', 'Width 4ft',\n",
       "       'Width 6ft', 'Width 5ft', 'Width 8ft', 'Width 10ft', '4X4',\n",
       "       'Width 1ft', '4X3', '4x6', '6x106', '3.5x3', '3x5', '20x20',\n",
       "       '6x10', '9x4', '9x99', '6x6', '10x15', '6x4', '8x5', '2x3', '2x4',\n",
       "       '10x100', '2.9x31.8', '5x6', '6x9', '4x2.5', '10x010', '2X2',\n",
       "       '3x10', '7x7', '5x7', '2x8', '2x10', '2X3', '7x4', '29.6x2.6',\n",
       "       '5x8', '50x100', '3x8', '6x8', '3X2', '3X10', 'Width 7ft', 'aaa',\n",
       "       '6', '3x12', '7', '3X4', '6x12', '3x15', '8X25', '12x4', '3x3x',\n",
       "       '50x50', '30x30', '9x9', '4.5x6', '1x3', '8x6', '5x4', '6x3',\n",
       "       '2.5x4', '5x3', '4x3', '12.5x5', '2.5x3', '3.5x5',\n",
       "       '3.5x4 to 3.5x7', '9x6', '3x7', '4x18', '7x6', '5x12', '8x4',\n",
       "       '6x15', '5x9', '0', '6x7', '4x10', '3x9', '13x6.5', '3xe', '3X5',\n",
       "       '4x13', '9x12', '5x2.5', '8x9', '3x33x3', '10x20', '3X6', '4X5',\n",
       "       'TR', '5x14', '11x20', '8x10', '2x5', '5.5x17', '16x8', '11x8',\n",
       "       '12x9', '4x8', '6x200', '16x16', 'POT', '16', '3X30', 'Width 9ft',\n",
       "       '12', '27x18', '4x21', '9x3', '5', '3x100', '12x31', '3X70', '3x2',\n",
       "       '90M', '3x4.5', 'M6', 'M', '15x200', '2x1', '35M', '3', '14x10',\n",
       "       '1X1', '2.5x5', '6O', 'Park', '3x21', '1x1', '8-HOA', '4x9', '11',\n",
       "       '8M', '3x20', '9x5', '1.5x2', '37x6', '4x16', '15-HOA', '10x6',\n",
       "       '3X100', '5x5.5', '4', '.75X.75', '2x9', '15x280', '3x105', '15x6',\n",
       "       '4x50', '6x21', '8x90', '4-HOA', '3X3PL', '18', '9', '17x15',\n",
       "       '12x4. 5', '8x8', '3x3.5', '14M', '15x4', '7x8', '7x5', '9x7',\n",
       "       '10x90', '3x50', '6-HOA', '10x7', '19', '15X15TR', '60M', '3X9',\n",
       "       '1X2', '20x225', '3.125x22', '4x7', '3x60', '3x2.5', '10X9',\n",
       "       '10x2', '5x20', '3X27', '7x3.6', '35', '3.5x3.5', '23x3', '2X4',\n",
       "       '9x15', '7x10', '1.5x4', '1.5x2.4', '5xt', '1x2', '8X8', '4x15',\n",
       "       '9x20', '20M', '8x15', '6x4.5', '12x17', '6x11', '10x4', '12x12',\n",
       "       '2.5x2', '100', '4.5x10', '3.5x9', '3X90', '7x9', '30x100',\n",
       "       '5x4.5', '3.5x6.5', '4.5 x5', '2X6', '26x6', '3x14', 'CUT', '4x12',\n",
       "       '2.5X4', '3x24', '3x7.5', '2.5x2.5', '4x20', '7x15', '29', '.5x1',\n",
       "       '12X6', '12x2.5', '3.5x4', '5x250', '4x14', '7X3', '2x6', '3x25',\n",
       "       '6X8', '4.5x5', '6X5', '2.5x6', '6x13', '10X10', '20x30', '3X17',\n",
       "       'TR20', '4x24', '2x7', '40TR', 'On campus', '2x23', '12X2.75',\n",
       "       '3x16', '30x10', '13x5', '6/15', '1.5x6.5', '4X4PL', '5.5x4',\n",
       "       '5x45', '2.5X3', '7.5x4', '12x1', '3X5PL', '9x200', '?', '6X4',\n",
       "       '21x6', '5X5PL', '12x2', '8.5x4.5', '20x10', '6x150', '5x24',\n",
       "       '5.5x6', '4x72', '5x15', '6x7.5', '30X30PL', '6x20', '31x31',\n",
       "       '2x58', '6X12', '5x17', '12x15.3', '4.5x4.5', '13x2.5', '26x9',\n",
       "       '200x30', '8x7', '10x3', '40M', '1PL', '3.5x6', '5.6x12', '4x7.5',\n",
       "       '3X20', '4X6', '6x300', '20x7', '10x3.5', '4.5x5.5', '4.5x15',\n",
       "       '5X4', '10x36', 'Plaza', '18x18', '7.5x9', '15x8', '3x', '3X50',\n",
       "       '5x1000', '1x12', '7X6', '39x3', '6x90', '2.5x8', '13.2x7.8',\n",
       "       '14x5.5', '8x100', '4x4 1/2', '4x2', '2x', '4.5x6.5', '8x30',\n",
       "       '21x4', '6x25', '12x2.75', '0x0', '1x4', '7.5x6', '6x5.5', '15x7',\n",
       "       '6X3', '7x57', '11x6', '5.5x9', '3.5x5.5', '8x20', '4 1/2x5',\n",
       "       '17.6x4', '2x2.5', '6x18', '6.5x3.5', '5x30', '4.5X4.5', '3x18',\n",
       "       '6x50', '12.8x7.8', '3x13', '7x13', '12x8', '2x12', '5X4.7',\n",
       "       '3.5x3. 5', '5x18', '1x2.75', '7x12', '3x30', '3X34', '3x11',\n",
       "       '7x3', '9x8', '2.5 x6', '6x3.5', '410x11', '4x 5', '8.5x4',\n",
       "       '6.5x9', '11.75x6', '6X15', '5X6', '6x7.4', '3x 3', '6x70', '10x5',\n",
       "       '3X25', '6x5.4', '60x3', '4.5x4', '4x30', '3x1', '3X14', '5.5x5',\n",
       "       '1.5x3', '3x80', 'within landscape plot', '5x2', '5X8', '5x4.9',\n",
       "       '2x2 circle', '2x30', '4xt', 'G', '1.5x12.75', '9x4.5', '7x3.5',\n",
       "       '3X12', '20x100', '10x9', '6x24', '2x68', '12x100',\n",
       "       'within landscaping plot', '5x33', '8.75x13', 'Width 4', '4X20',\n",
       "       '12x7', '30x200', '5x4.1', '15x3', '30x20', '1X3', '12x4.7',\n",
       "       '11.85x4', '4.5x12', '4X30', '2x50', '6x14', '1.5x1.5',\n",
       "       '4 diameter', '8x45', '6x100', '15x15', '10x8', '1.5x2.6', '13x6',\n",
       "       '4x25', '3X33x3', '4.5x9', 'On Campus', '1.5X1.5', '18x3',\n",
       "       '19.5x4', '13x2', '1.5x13', '7.5x10.5', '1x15', '3 1/2x4',\n",
       "       '2.5 x4', '4x6.5', '6X9', '4x27', '8X4', '5.5x5.5', '6x10.5',\n",
       "       '5.5x12', '3X', '7x9.5', '12.5x6', '8x5.5', '21.4x7.8', '4x4.8',\n",
       "       '4xx', '3c3', '12x15', '11x7', '20x5', '2x4.5', '27x6', '4.5x8',\n",
       "       '5.5x18', '9x90', '26.75x4', '25x100x60', '410x30', 'Width 4x5',\n",
       "       '20x6', '12x30', '2X1', '5.5x6.5', '7.5x2.5', '5x40', '2x20',\n",
       "       '13.9x4', '13x4.9', '4x4.5', '4.5 x9', '3x500', '7.5x7', '6x28',\n",
       "       '6x60', '16x5', '11x5', '27.75x4', '5x7.5', '8x1', '3.5x4.9',\n",
       "       '3x32l', '5x16', '3.2x14.2', '5x400', '7.5x10', '3PL', 'tx5',\n",
       "       '3×3', '14x8', '10X27', '24x18', 'strip', '4x3.9', '2.5 X3',\n",
       "       '2.5x1.5', '5x100', '2.5x9', '7x200', '3z3', '16x4', '03x2',\n",
       "       '4.5x16', '1.75x4.9', '7.5x7.5', 'CENTER8', '3.2x3.75', '5.5x3.5',\n",
       "       '5X7', '4x10.5', '11.75x1.5+3.6x3.6', '3x3`', '15x3.5', '5x 6',\n",
       "       '27x4', '33', '3s33x3', '3X40', '5XX5', '4x5.5', 'ex3', '50x5',\n",
       "       '3x90', '3x22', '7x82', '4x19', '5x50', '8X18', '15x50', '9x7.5',\n",
       "       '15x5', '10x5.5', '6x40', '4.5x7.5', '9X2', '1x13', '11x477',\n",
       "       '3 x4', '3X24', 'witin landscaping plot', '2X5', '18x7', '1.5x12',\n",
       "       '40x50', '5X3', '8X15', '20x9'], dtype=object)"
      ]
     },
     "execution_count": 78,
     "metadata": {},
     "output_type": "execute_result"
    }
   ],
   "source": [
    "rawdata['PlotSize'].unique()"
   ]
  },
  {
   "cell_type": "markdown",
   "id": "10486913",
   "metadata": {},
   "source": [
    "### The dimensions vary from different sizes, container types, or location of tree. It is not a very clean data column"
   ]
  },
  {
   "cell_type": "markdown",
   "id": "d1143773",
   "metadata": {},
   "source": [
    "### Viewing the different site information options"
   ]
  },
  {
   "cell_type": "code",
   "execution_count": 72,
   "id": "2a5b608b",
   "metadata": {},
   "outputs": [
    {
     "data": {
      "text/plain": [
       "['Sidewalk: Curb side : Cutout',\n",
       " 'Median : Cutout',\n",
       " ':',\n",
       " 'Front Yard : Pot',\n",
       " 'Sidewalk: Property side : Yard',\n",
       " 'Sidewalk: Curb side : Yard',\n",
       " 'Side Yard : Yard',\n",
       " 'unknown : Yard',\n",
       " 'Sidewalk: Curb side : Pot',\n",
       " 'Front Yard : Yard',\n",
       " 'Sidewalk: Property side : Cutout',\n",
       " 'Back Yard : Yard',\n",
       " 'Unaccepted Street : Yard',\n",
       " 'Front Yard : Cutout',\n",
       " 'Median : Yard',\n",
       " 'Unaccepted Street : Pot',\n",
       " ': Yard',\n",
       " 'Side Yard : Cutout',\n",
       " 'unknown : Cutout',\n",
       " 'Sidewalk: Curb side :',\n",
       " 'Side Yard : Pot',\n",
       " 'Unaccepted Street : Cutout',\n",
       " 'Back Yard : Cutout',\n",
       " 'Front Yard :',\n",
       " 'Median :',\n",
       " 'Sidewalk: Property side : Pot',\n",
       " 'Sidewalk: Property side :',\n",
       " 'Hanging basket : Cutout',\n",
       " 'Sidewalk: Curb side : Hanging Pot',\n",
       " 'Hanging basket : Yard',\n",
       " 'unknown : Pot',\n",
       " 'Median : Hanging Pot']"
      ]
     },
     "execution_count": 72,
     "metadata": {},
     "output_type": "execute_result"
    }
   ],
   "source": [
    "SiteInfoList = data['qSiteInfo'].unique().tolist()\n",
    "SiteInfoList"
   ]
  },
  {
   "cell_type": "markdown",
   "id": "e8a185df",
   "metadata": {},
   "source": [
    "### Finding the number of Private compared to Public Works (DPW)\n",
    "\n",
    "### First is shows all, then Private,  then DWP"
   ]
  },
  {
   "cell_type": "code",
   "execution_count": 108,
   "id": "59d2125c",
   "metadata": {},
   "outputs": [
    {
     "data": {
      "text/plain": [
       "Private                    160847\n",
       "DPW                         26788\n",
       "SFUSD                        1065\n",
       "Port                          722\n",
       "Rec/Park                      719\n",
       "PUC                           260\n",
       "DPW for City Agency           197\n",
       "MTA                           108\n",
       "Dept of Real Estate            92\n",
       "Purchasing Dept                85\n",
       "Fire Dept                      69\n",
       "Health Dept                    55\n",
       "Police Dept                    50\n",
       "Mayor Office of Housing        37\n",
       "Public Library                 37\n",
       "Housing Authority              35\n",
       "Arts Commission                30\n",
       "Office of Mayor                26\n",
       "War Memorial                   20\n",
       "Mission Verde                  15\n",
       "City College                   11\n",
       "Asian Arts Commission           6\n",
       "CAN                             1\n",
       "Cleary Bros. Landscape          1\n",
       "Name: qCaretaker, dtype: int64"
      ]
     },
     "execution_count": 108,
     "metadata": {},
     "output_type": "execute_result"
    }
   ],
   "source": [
    "data['qCaretaker'].value_counts()"
   ]
  },
  {
   "cell_type": "code",
   "execution_count": 106,
   "id": "1170945e",
   "metadata": {},
   "outputs": [
    {
     "data": {
      "text/plain": [
       "160847"
      ]
     },
     "execution_count": 106,
     "metadata": {},
     "output_type": "execute_result"
    }
   ],
   "source": [
    "data['qCaretaker'].value_counts()['Private']"
   ]
  },
  {
   "cell_type": "code",
   "execution_count": 107,
   "id": "4b76cfba",
   "metadata": {},
   "outputs": [
    {
     "data": {
      "text/plain": [
       "26788"
      ]
     },
     "execution_count": 107,
     "metadata": {},
     "output_type": "execute_result"
    }
   ],
   "source": [
    "data['qCaretaker'].value_counts()['DPW']"
   ]
  },
  {
   "cell_type": "code",
   "execution_count": 110,
   "id": "61fc9be4",
   "metadata": {},
   "outputs": [],
   "source": [
    "%matplotlib inline\n",
    "import matplotlib.pyplot as plt\n",
    "import numpy as np"
   ]
  },
  {
   "cell_type": "code",
   "execution_count": 116,
   "id": "8bc20f5f",
   "metadata": {},
   "outputs": [
    {
     "data": {
      "text/plain": [
       "Zip Codes\n",
       "54.0        9332\n",
       "55.0        7310\n",
       "56.0       10398\n",
       "57.0        5555\n",
       "58.0       12128\n",
       "59.0        7325\n",
       "61.0          15\n",
       "63.0        9057\n",
       "64.0        4554\n",
       "308.0       4576\n",
       "309.0       5372\n",
       "310.0       1605\n",
       "28588.0        1\n",
       "28852.0     6276\n",
       "28853.0     8620\n",
       "28854.0      326\n",
       "28855.0     2491\n",
       "28856.0     8786\n",
       "28857.0     1264\n",
       "28858.0     7485\n",
       "28859.0    21124\n",
       "28860.0     2359\n",
       "28861.0    12773\n",
       "28862.0    12840\n",
       "29490.0     9658\n",
       "29491.0     9529\n",
       "29492.0    10517\n",
       "dtype: int64"
      ]
     },
     "execution_count": 116,
     "metadata": {},
     "output_type": "execute_result"
    }
   ],
   "source": [
    "data.groupby(by='Zip Codes').size()"
   ]
  },
  {
   "cell_type": "code",
   "execution_count": 135,
   "id": "ed220ef5",
   "metadata": {},
   "outputs": [
    {
     "data": {
      "text/html": [
       "<div>\n",
       "<style scoped>\n",
       "    .dataframe tbody tr th:only-of-type {\n",
       "        vertical-align: middle;\n",
       "    }\n",
       "\n",
       "    .dataframe tbody tr th {\n",
       "        vertical-align: top;\n",
       "    }\n",
       "\n",
       "    .dataframe thead th {\n",
       "        text-align: right;\n",
       "    }\n",
       "</style>\n",
       "<table border=\"1\" class=\"dataframe\">\n",
       "  <thead>\n",
       "    <tr style=\"text-align: right;\">\n",
       "      <th></th>\n",
       "      <th>Zip Codes</th>\n",
       "      <th>0</th>\n",
       "    </tr>\n",
       "  </thead>\n",
       "  <tbody>\n",
       "    <tr>\n",
       "      <th>0</th>\n",
       "      <td>54.0</td>\n",
       "      <td>9332</td>\n",
       "    </tr>\n",
       "    <tr>\n",
       "      <th>1</th>\n",
       "      <td>55.0</td>\n",
       "      <td>7310</td>\n",
       "    </tr>\n",
       "    <tr>\n",
       "      <th>2</th>\n",
       "      <td>56.0</td>\n",
       "      <td>10398</td>\n",
       "    </tr>\n",
       "    <tr>\n",
       "      <th>3</th>\n",
       "      <td>57.0</td>\n",
       "      <td>5555</td>\n",
       "    </tr>\n",
       "    <tr>\n",
       "      <th>4</th>\n",
       "      <td>58.0</td>\n",
       "      <td>12128</td>\n",
       "    </tr>\n",
       "    <tr>\n",
       "      <th>5</th>\n",
       "      <td>59.0</td>\n",
       "      <td>7325</td>\n",
       "    </tr>\n",
       "    <tr>\n",
       "      <th>6</th>\n",
       "      <td>61.0</td>\n",
       "      <td>15</td>\n",
       "    </tr>\n",
       "    <tr>\n",
       "      <th>7</th>\n",
       "      <td>63.0</td>\n",
       "      <td>9057</td>\n",
       "    </tr>\n",
       "    <tr>\n",
       "      <th>8</th>\n",
       "      <td>64.0</td>\n",
       "      <td>4554</td>\n",
       "    </tr>\n",
       "    <tr>\n",
       "      <th>9</th>\n",
       "      <td>308.0</td>\n",
       "      <td>4576</td>\n",
       "    </tr>\n",
       "    <tr>\n",
       "      <th>10</th>\n",
       "      <td>309.0</td>\n",
       "      <td>5372</td>\n",
       "    </tr>\n",
       "    <tr>\n",
       "      <th>11</th>\n",
       "      <td>310.0</td>\n",
       "      <td>1605</td>\n",
       "    </tr>\n",
       "    <tr>\n",
       "      <th>12</th>\n",
       "      <td>28588.0</td>\n",
       "      <td>1</td>\n",
       "    </tr>\n",
       "    <tr>\n",
       "      <th>13</th>\n",
       "      <td>28852.0</td>\n",
       "      <td>6276</td>\n",
       "    </tr>\n",
       "    <tr>\n",
       "      <th>14</th>\n",
       "      <td>28853.0</td>\n",
       "      <td>8620</td>\n",
       "    </tr>\n",
       "    <tr>\n",
       "      <th>15</th>\n",
       "      <td>28854.0</td>\n",
       "      <td>326</td>\n",
       "    </tr>\n",
       "    <tr>\n",
       "      <th>16</th>\n",
       "      <td>28855.0</td>\n",
       "      <td>2491</td>\n",
       "    </tr>\n",
       "    <tr>\n",
       "      <th>17</th>\n",
       "      <td>28856.0</td>\n",
       "      <td>8786</td>\n",
       "    </tr>\n",
       "    <tr>\n",
       "      <th>18</th>\n",
       "      <td>28857.0</td>\n",
       "      <td>1264</td>\n",
       "    </tr>\n",
       "    <tr>\n",
       "      <th>19</th>\n",
       "      <td>28858.0</td>\n",
       "      <td>7485</td>\n",
       "    </tr>\n",
       "    <tr>\n",
       "      <th>20</th>\n",
       "      <td>28859.0</td>\n",
       "      <td>21124</td>\n",
       "    </tr>\n",
       "    <tr>\n",
       "      <th>21</th>\n",
       "      <td>28860.0</td>\n",
       "      <td>2359</td>\n",
       "    </tr>\n",
       "    <tr>\n",
       "      <th>22</th>\n",
       "      <td>28861.0</td>\n",
       "      <td>12773</td>\n",
       "    </tr>\n",
       "    <tr>\n",
       "      <th>23</th>\n",
       "      <td>28862.0</td>\n",
       "      <td>12840</td>\n",
       "    </tr>\n",
       "    <tr>\n",
       "      <th>24</th>\n",
       "      <td>29490.0</td>\n",
       "      <td>9658</td>\n",
       "    </tr>\n",
       "    <tr>\n",
       "      <th>25</th>\n",
       "      <td>29491.0</td>\n",
       "      <td>9529</td>\n",
       "    </tr>\n",
       "    <tr>\n",
       "      <th>26</th>\n",
       "      <td>29492.0</td>\n",
       "      <td>10517</td>\n",
       "    </tr>\n",
       "  </tbody>\n",
       "</table>\n",
       "</div>"
      ],
      "text/plain": [
       "    Zip Codes      0\n",
       "0        54.0   9332\n",
       "1        55.0   7310\n",
       "2        56.0  10398\n",
       "3        57.0   5555\n",
       "4        58.0  12128\n",
       "5        59.0   7325\n",
       "6        61.0     15\n",
       "7        63.0   9057\n",
       "8        64.0   4554\n",
       "9       308.0   4576\n",
       "10      309.0   5372\n",
       "11      310.0   1605\n",
       "12    28588.0      1\n",
       "13    28852.0   6276\n",
       "14    28853.0   8620\n",
       "15    28854.0    326\n",
       "16    28855.0   2491\n",
       "17    28856.0   8786\n",
       "18    28857.0   1264\n",
       "19    28858.0   7485\n",
       "20    28859.0  21124\n",
       "21    28860.0   2359\n",
       "22    28861.0  12773\n",
       "23    28862.0  12840\n",
       "24    29490.0   9658\n",
       "25    29491.0   9529\n",
       "26    29492.0  10517"
      ]
     },
     "execution_count": 135,
     "metadata": {},
     "output_type": "execute_result"
    }
   ],
   "source": [
    "zipcodes = pd.DataFrame(data=data.groupby(by='Zip Codes').size()).reset_index()\n",
    "zipcodes"
   ]
  },
  {
   "cell_type": "code",
   "execution_count": 136,
   "id": "ecf0b91e",
   "metadata": {},
   "outputs": [],
   "source": [
    "zipcodes.rename(columns={0:'Tree Count'},inplace=True)"
   ]
  },
  {
   "cell_type": "code",
   "execution_count": 137,
   "id": "ccf50672",
   "metadata": {},
   "outputs": [],
   "source": [
    "zipcodes = zipcodes[12:].copy()"
   ]
  },
  {
   "cell_type": "code",
   "execution_count": 138,
   "id": "127f208b",
   "metadata": {},
   "outputs": [
    {
     "data": {
      "text/html": [
       "<div>\n",
       "<style scoped>\n",
       "    .dataframe tbody tr th:only-of-type {\n",
       "        vertical-align: middle;\n",
       "    }\n",
       "\n",
       "    .dataframe tbody tr th {\n",
       "        vertical-align: top;\n",
       "    }\n",
       "\n",
       "    .dataframe thead th {\n",
       "        text-align: right;\n",
       "    }\n",
       "</style>\n",
       "<table border=\"1\" class=\"dataframe\">\n",
       "  <thead>\n",
       "    <tr style=\"text-align: right;\">\n",
       "      <th></th>\n",
       "      <th>Zip Codes</th>\n",
       "      <th>Tree Count</th>\n",
       "    </tr>\n",
       "  </thead>\n",
       "  <tbody>\n",
       "    <tr>\n",
       "      <th>12</th>\n",
       "      <td>28588.0</td>\n",
       "      <td>1</td>\n",
       "    </tr>\n",
       "    <tr>\n",
       "      <th>13</th>\n",
       "      <td>28852.0</td>\n",
       "      <td>6276</td>\n",
       "    </tr>\n",
       "    <tr>\n",
       "      <th>14</th>\n",
       "      <td>28853.0</td>\n",
       "      <td>8620</td>\n",
       "    </tr>\n",
       "    <tr>\n",
       "      <th>15</th>\n",
       "      <td>28854.0</td>\n",
       "      <td>326</td>\n",
       "    </tr>\n",
       "    <tr>\n",
       "      <th>16</th>\n",
       "      <td>28855.0</td>\n",
       "      <td>2491</td>\n",
       "    </tr>\n",
       "    <tr>\n",
       "      <th>17</th>\n",
       "      <td>28856.0</td>\n",
       "      <td>8786</td>\n",
       "    </tr>\n",
       "    <tr>\n",
       "      <th>18</th>\n",
       "      <td>28857.0</td>\n",
       "      <td>1264</td>\n",
       "    </tr>\n",
       "    <tr>\n",
       "      <th>19</th>\n",
       "      <td>28858.0</td>\n",
       "      <td>7485</td>\n",
       "    </tr>\n",
       "    <tr>\n",
       "      <th>20</th>\n",
       "      <td>28859.0</td>\n",
       "      <td>21124</td>\n",
       "    </tr>\n",
       "    <tr>\n",
       "      <th>21</th>\n",
       "      <td>28860.0</td>\n",
       "      <td>2359</td>\n",
       "    </tr>\n",
       "    <tr>\n",
       "      <th>22</th>\n",
       "      <td>28861.0</td>\n",
       "      <td>12773</td>\n",
       "    </tr>\n",
       "    <tr>\n",
       "      <th>23</th>\n",
       "      <td>28862.0</td>\n",
       "      <td>12840</td>\n",
       "    </tr>\n",
       "    <tr>\n",
       "      <th>24</th>\n",
       "      <td>29490.0</td>\n",
       "      <td>9658</td>\n",
       "    </tr>\n",
       "    <tr>\n",
       "      <th>25</th>\n",
       "      <td>29491.0</td>\n",
       "      <td>9529</td>\n",
       "    </tr>\n",
       "    <tr>\n",
       "      <th>26</th>\n",
       "      <td>29492.0</td>\n",
       "      <td>10517</td>\n",
       "    </tr>\n",
       "  </tbody>\n",
       "</table>\n",
       "</div>"
      ],
      "text/plain": [
       "    Zip Codes  Tree Count\n",
       "12    28588.0           1\n",
       "13    28852.0        6276\n",
       "14    28853.0        8620\n",
       "15    28854.0         326\n",
       "16    28855.0        2491\n",
       "17    28856.0        8786\n",
       "18    28857.0        1264\n",
       "19    28858.0        7485\n",
       "20    28859.0       21124\n",
       "21    28860.0        2359\n",
       "22    28861.0       12773\n",
       "23    28862.0       12840\n",
       "24    29490.0        9658\n",
       "25    29491.0        9529\n",
       "26    29492.0       10517"
      ]
     },
     "execution_count": 138,
     "metadata": {},
     "output_type": "execute_result"
    }
   ],
   "source": [
    "zipcodes"
   ]
  },
  {
   "cell_type": "code",
   "execution_count": 128,
   "id": "abeaae6e",
   "metadata": {},
   "outputs": [
    {
     "data": {
      "text/plain": [
       "(array([[ 0.,  0.,  0.,  0.,  0.,  0.,  0.,  0.,  0., 15.],\n",
       "        [ 5.,  0.,  4.,  3.,  2.,  0.,  0.,  1.,  0.,  0.]]),\n",
       " array([1.00000e+00, 2.95010e+03, 5.89920e+03, 8.84830e+03, 1.17974e+04,\n",
       "        1.47465e+04, 1.76956e+04, 2.06447e+04, 2.35938e+04, 2.65429e+04,\n",
       "        2.94920e+04]),\n",
       " <a list of 2 BarContainer objects>)"
      ]
     },
     "execution_count": 128,
     "metadata": {},
     "output_type": "execute_result"
    },
    {
     "data": {
      "image/png": "[encoded data removed]",
      "text/plain": [
       "<Figure size 432x288 with 1 Axes>"
      ]
     },
     "metadata": {
      "needs_background": "light"
     },
     "output_type": "display_data"
    }
   ],
   "source": [
    "plt.hist('zipcodes')"
   ]
  },
  {
   "cell_type": "code",
   "execution_count": 139,
   "id": "79290ab4",
   "metadata": {},
   "outputs": [],
   "source": [
    "zipcodes['Zip Codes']=zipcodes['Zip Codes'].astype(int).astype(str)"
   ]
  },
  {
   "cell_type": "code",
   "execution_count": 140,
   "id": "aeec08dd",
   "metadata": {},
   "outputs": [
    {
     "name": "stdout",
     "output_type": "stream",
     "text": [
      "<class 'pandas.core.frame.DataFrame'>\n",
      "RangeIndex: 15 entries, 12 to 26\n",
      "Data columns (total 2 columns):\n",
      " #   Column      Non-Null Count  Dtype \n",
      "---  ------      --------------  ----- \n",
      " 0   Zip Codes   15 non-null     object\n",
      " 1   Tree Count  15 non-null     int64 \n",
      "dtypes: int64(1), object(1)\n",
      "memory usage: 372.0+ bytes\n"
     ]
    }
   ],
   "source": [
    "zipcodes.info()"
   ]
  },
  {
   "cell_type": "code",
   "execution_count": 141,
   "id": "0933bd70",
   "metadata": {},
   "outputs": [
    {
     "data": {
      "text/html": [
       "<div>\n",
       "<style scoped>\n",
       "    .dataframe tbody tr th:only-of-type {\n",
       "        vertical-align: middle;\n",
       "    }\n",
       "\n",
       "    .dataframe tbody tr th {\n",
       "        vertical-align: top;\n",
       "    }\n",
       "\n",
       "    .dataframe thead th {\n",
       "        text-align: right;\n",
       "    }\n",
       "</style>\n",
       "<table border=\"1\" class=\"dataframe\">\n",
       "  <thead>\n",
       "    <tr style=\"text-align: right;\">\n",
       "      <th></th>\n",
       "      <th>Zip Codes</th>\n",
       "      <th>Tree Count</th>\n",
       "    </tr>\n",
       "  </thead>\n",
       "  <tbody>\n",
       "    <tr>\n",
       "      <th>12</th>\n",
       "      <td>28588</td>\n",
       "      <td>1</td>\n",
       "    </tr>\n",
       "    <tr>\n",
       "      <th>13</th>\n",
       "      <td>28852</td>\n",
       "      <td>6276</td>\n",
       "    </tr>\n",
       "    <tr>\n",
       "      <th>14</th>\n",
       "      <td>28853</td>\n",
       "      <td>8620</td>\n",
       "    </tr>\n",
       "    <tr>\n",
       "      <th>15</th>\n",
       "      <td>28854</td>\n",
       "      <td>326</td>\n",
       "    </tr>\n",
       "    <tr>\n",
       "      <th>16</th>\n",
       "      <td>28855</td>\n",
       "      <td>2491</td>\n",
       "    </tr>\n",
       "    <tr>\n",
       "      <th>17</th>\n",
       "      <td>28856</td>\n",
       "      <td>8786</td>\n",
       "    </tr>\n",
       "    <tr>\n",
       "      <th>18</th>\n",
       "      <td>28857</td>\n",
       "      <td>1264</td>\n",
       "    </tr>\n",
       "    <tr>\n",
       "      <th>19</th>\n",
       "      <td>28858</td>\n",
       "      <td>7485</td>\n",
       "    </tr>\n",
       "    <tr>\n",
       "      <th>20</th>\n",
       "      <td>28859</td>\n",
       "      <td>21124</td>\n",
       "    </tr>\n",
       "    <tr>\n",
       "      <th>21</th>\n",
       "      <td>28860</td>\n",
       "      <td>2359</td>\n",
       "    </tr>\n",
       "    <tr>\n",
       "      <th>22</th>\n",
       "      <td>28861</td>\n",
       "      <td>12773</td>\n",
       "    </tr>\n",
       "    <tr>\n",
       "      <th>23</th>\n",
       "      <td>28862</td>\n",
       "      <td>12840</td>\n",
       "    </tr>\n",
       "    <tr>\n",
       "      <th>24</th>\n",
       "      <td>29490</td>\n",
       "      <td>9658</td>\n",
       "    </tr>\n",
       "    <tr>\n",
       "      <th>25</th>\n",
       "      <td>29491</td>\n",
       "      <td>9529</td>\n",
       "    </tr>\n",
       "    <tr>\n",
       "      <th>26</th>\n",
       "      <td>29492</td>\n",
       "      <td>10517</td>\n",
       "    </tr>\n",
       "  </tbody>\n",
       "</table>\n",
       "</div>"
      ],
      "text/plain": [
       "   Zip Codes  Tree Count\n",
       "12     28588           1\n",
       "13     28852        6276\n",
       "14     28853        8620\n",
       "15     28854         326\n",
       "16     28855        2491\n",
       "17     28856        8786\n",
       "18     28857        1264\n",
       "19     28858        7485\n",
       "20     28859       21124\n",
       "21     28860        2359\n",
       "22     28861       12773\n",
       "23     28862       12840\n",
       "24     29490        9658\n",
       "25     29491        9529\n",
       "26     29492       10517"
      ]
     },
     "execution_count": 141,
     "metadata": {},
     "output_type": "execute_result"
    }
   ],
   "source": [
    "zipcodes"
   ]
  },
  {
   "cell_type": "code",
   "execution_count": 157,
   "id": "69d50d5a",
   "metadata": {},
   "outputs": [
    {
     "data": {
      "image/png": "[encoded data removed]",
      "text/plain": [
       "<Figure size 864x432 with 1 Axes>"
      ]
     },
     "metadata": {
      "needs_background": "light"
     },
     "output_type": "display_data"
    }
   ],
   "source": [
    "plt.figure(figsize=(12,6))\n",
    "\n",
    "plt.bar(zipcodes['Zip Codes'], zipcodes['Tree Count'])\n",
    "plt.xticks(rotation=90)\n",
    "plt.xlabel('Zip Codes',fontsize=14)\n",
    "plt.ylabel('# of Trees')\n",
    "plt.title('Trees per Zip Code');"
   ]
  },
  {
   "cell_type": "code",
   "execution_count": 162,
   "id": "1a63af7e",
   "metadata": {},
   "outputs": [
    {
     "data": {
      "text/plain": [
       "160847"
      ]
     },
     "execution_count": 162,
     "metadata": {},
     "output_type": "execute_result"
    }
   ],
   "source": [
    "PrivateCT = data['qCaretaker'].value_counts()['Private']\n",
    "PrivateCT"
   ]
  },
  {
   "cell_type": "code",
   "execution_count": 164,
   "id": "51590eea",
   "metadata": {},
   "outputs": [
    {
     "data": {
      "text/plain": [
       "26788"
      ]
     },
     "execution_count": 164,
     "metadata": {},
     "output_type": "execute_result"
    }
   ],
   "source": [
    "DPWCT = data['qCaretaker'].value_counts()['DPW']\n",
    "DPWCT"
   ]
  },
  {
   "cell_type": "code",
   "execution_count": 170,
   "id": "bcd42ae1",
   "metadata": {},
   "outputs": [],
   "source": [
    "values = {'Caretaker':['Private','DPW'], 'Tree Count':[PrivateCT,DPWCT]}"
   ]
  },
  {
   "cell_type": "code",
   "execution_count": 171,
   "id": "bfda8280",
   "metadata": {},
   "outputs": [
    {
     "data": {
      "text/html": [
       "<div>\n",
       "<style scoped>\n",
       "    .dataframe tbody tr th:only-of-type {\n",
       "        vertical-align: middle;\n",
       "    }\n",
       "\n",
       "    .dataframe tbody tr th {\n",
       "        vertical-align: top;\n",
       "    }\n",
       "\n",
       "    .dataframe thead th {\n",
       "        text-align: right;\n",
       "    }\n",
       "</style>\n",
       "<table border=\"1\" class=\"dataframe\">\n",
       "  <thead>\n",
       "    <tr style=\"text-align: right;\">\n",
       "      <th></th>\n",
       "      <th>Caretaker</th>\n",
       "      <th>Tree Count</th>\n",
       "    </tr>\n",
       "  </thead>\n",
       "  <tbody>\n",
       "    <tr>\n",
       "      <th>0</th>\n",
       "      <td>Private</td>\n",
       "      <td>160847</td>\n",
       "    </tr>\n",
       "    <tr>\n",
       "      <th>1</th>\n",
       "      <td>DPW</td>\n",
       "      <td>26788</td>\n",
       "    </tr>\n",
       "  </tbody>\n",
       "</table>\n",
       "</div>"
      ],
      "text/plain": [
       "  Caretaker  Tree Count\n",
       "0   Private      160847\n",
       "1       DPW       26788"
      ]
     },
     "execution_count": 171,
     "metadata": {},
     "output_type": "execute_result"
    }
   ],
   "source": [
    "PvDPW = pd.DataFrame(data=values)\n",
    "PvDPW"
   ]
  },
  {
   "cell_type": "code",
   "execution_count": 183,
   "id": "fee685a2",
   "metadata": {},
   "outputs": [
    {
     "data": {
      "image/png": "[encoded data removed]",
      "text/plain": [
       "<Figure size 432x288 with 1 Axes>"
      ]
     },
     "metadata": {
      "needs_background": "light"
     },
     "output_type": "display_data"
    }
   ],
   "source": [
    "plt.bar(PvDPW['Caretaker'], PvDPW['Tree Count'])\n",
    "\n",
    "plt.ylabel('# of Trees')\n",
    "plt.title('Private vs DPW', fontsize=14);"
   ]
  },
  {
   "cell_type": "code",
   "execution_count": null,
   "id": "89964e84",
   "metadata": {},
   "outputs": [],
   "source": []
  }
 ],
 "metadata": {
  "kernelspec": {
   "display_name": "Python 3 (ipykernel)",
   "language": "python",
   "name": "python3"
  },
  "language_info": {
   "codemirror_mode": {
    "name": "ipython",
    "version": 3
   },
   "file_extension": ".py",
   "mimetype": "text/x-python",
   "name": "python",
   "nbconvert_exporter": "python",
   "pygments_lexer": "ipython3",
   "version": "3.9.12"
  }
 },
 "nbformat": 4,
 "nbformat_minor": 5
}
